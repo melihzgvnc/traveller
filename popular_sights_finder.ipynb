{
 "cells": [
  {
   "cell_type": "code",
   "execution_count": 1,
   "id": "99845b7e-744d-4f55-94d5-0756ac38f1fb",
   "metadata": {},
   "outputs": [],
   "source": [
    "import os\n",
    "from dotenv import load_dotenv\n",
    "from serpapi import GoogleSearch\n",
    "from pydantic import Field\n",
    "from typing import Optional"
   ]
  },
  {
   "cell_type": "code",
   "execution_count": 2,
   "id": "cd423704-c900-49bc-9731-dcf7f2972881",
   "metadata": {},
   "outputs": [],
   "source": [
    "load_dotenv()\n",
    "os.environ[\"SERPAPI_KEY\"] = os.getenv(\"SERPAPI_KEY\")"
   ]
  },
  {
   "cell_type": "code",
   "execution_count": null,
   "id": "c52945b4-bc60-4042-9764-89df3a3e8afb",
   "metadata": {},
   "outputs": [],
   "source": [
    "def get_top_sights(\n",
    "    destination: str = Field(\n",
    "        ..., description = \"The city which the top sights of will be fetched\"\n",
    "    )\n",
    "):\n",
    "\n",
    "    params = {\n",
    "        \"engine\": \"google\",\n",
    "        \"q\": f\"Top sights in {destination}\",\n",
    "        \"api_key\": os.environ[\"SERPAPI_KEY\"]\n",
    "    }\n",
    "\n",
    "    search = GoogleSearch(params)\n",
    "    results = search.get_dict()\n",
    "    top_sights = results[\"top_sights\"][\"sights\"][:3]"
   ]
  },
  {
   "cell_type": "code",
   "execution_count": 13,
   "id": "bb7d0a12-8947-47b8-b427-9c934e3aa1f6",
   "metadata": {},
   "outputs": [],
   "source": [
    "params = {\n",
    "  \"engine\": \"google\",\n",
    "  \"q\": \"Top sights in Dresden\",\n",
    "  \"api_key\": os.environ[\"SERPAPI_KEY\"]\n",
    "}\n",
    "\n",
    "search = GoogleSearch(params)\n",
    "results = search.get_dict()\n",
    "top_sights = results[\"top_sights\"]"
   ]
  },
  {
   "cell_type": "code",
   "execution_count": 18,
   "id": "2a013880-d42c-40d5-a17e-d7c24f54e3b4",
   "metadata": {},
   "outputs": [
    {
     "data": {
      "text/plain": [
       "[{'title': 'Dresden Zwinger',\n",
       "  'description': 'Historical landmark',\n",
       "  'rating': 4.7,\n",
       "  'reviews': 49000,\n",
       "  'price': '$16.56',\n",
       "  'extracted_price': 16.56,\n",
       "  'thumbnail': 'https://serpapi.com/searches/67ab8020ac14390ac6cbf5f3/images/7ce3088bbe409bacf2b8b90b150fb37aa1b546078fe883ec82a55b22303e83ba.jpeg'},\n",
       " {'title': 'Frauenkirche Dresden',\n",
       "  'description': 'Church',\n",
       "  'rating': 4.8,\n",
       "  'reviews': 31000,\n",
       "  'price': 'Free',\n",
       "  'thumbnail': 'https://serpapi.com/searches/67ab8020ac14390ac6cbf5f3/images/7ce3088bbe409bacf2b8b90b150fb37a6232496a2aa5f6fbadfb121cdd04c5ff.jpeg'},\n",
       " {'title': 'Dresden Castle',\n",
       "  'description': 'Historical landmark',\n",
       "  'rating': 4.7,\n",
       "  'reviews': 11000,\n",
       "  'price': '$16.56',\n",
       "  'extracted_price': 16.56,\n",
       "  'thumbnail': 'https://serpapi.com/searches/67ab8020ac14390ac6cbf5f3/images/7ce3088bbe409bacf2b8b90b150fb37a09d0c8abf74f7859a9a99da67a463a0a.jpeg'}]"
      ]
     },
     "execution_count": 18,
     "metadata": {},
     "output_type": "execute_result"
    }
   ],
   "source": [
    "top_sights[\"sights\"][:3]"
   ]
  }
 ],
 "metadata": {
  "kernelspec": {
   "display_name": "Python 3 (ipykernel)",
   "language": "python",
   "name": "python3"
  },
  "language_info": {
   "codemirror_mode": {
    "name": "ipython",
    "version": 3
   },
   "file_extension": ".py",
   "mimetype": "text/x-python",
   "name": "python",
   "nbconvert_exporter": "python",
   "pygments_lexer": "ipython3",
   "version": "3.12.8"
  }
 },
 "nbformat": 4,
 "nbformat_minor": 5
}

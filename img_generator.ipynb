{
 "cells": [
  {
   "cell_type": "code",
   "execution_count": 7,
   "id": "88172602-9e0b-49e3-b6fb-3d39bfada7ca",
   "metadata": {},
   "outputs": [],
   "source": [
    "from openai import OpenAI\n",
    "import os\n",
    "from dotenv import load_dotenv\n",
    "from pydantic import Field\n",
    "import base64\n",
    "from io import BytesIO\n",
    "from PIL import Image"
   ]
  },
  {
   "cell_type": "code",
   "execution_count": 4,
   "id": "393090ad-cae1-4a2e-b731-59435edeea13",
   "metadata": {},
   "outputs": [],
   "source": [
    "load_dotenv()\n",
    "os.environ[\"OPENAI_API_KEY\"] = os.getenv(\"OPENAI_API_KEY\")\n",
    "openai = OpenAI()"
   ]
  },
  {
   "cell_type": "code",
   "execution_count": 8,
   "id": "d61ea276-8061-4ad6-9035-82f2fefdfb14",
   "metadata": {},
   "outputs": [],
   "source": [
    "def img_generator(\n",
    "    destination: str = Field(\n",
    "        ..., description = \"The city which the image of will be generated\"\n",
    "    )\n",
    "):\n",
    "\n",
    "    prompt = f\"\"\"\n",
    "    Create a highly detailed and artistic digital painting of the city of {destination}. \n",
    "    The artwork should capture the essence of the city's unique architecture, atmosphere, and culture. \n",
    "    Include iconic landmarks, vibrant street life, and a dynamic skyline. \n",
    "    Use a blend of warm and cool tones to evoke a sense of depth and realism while maintaining an artistic flair. \n",
    "    The image should feel immersive, with intricate details in buildings, people, \n",
    "    and lighting effects that reflect the time of day—whether it's a golden sunset, a neon-lit night, or a bright morning. \n",
    "    The style should be a mix of realism and impressionism, with expressive brushstrokes adding movement and emotion to the scene.\n",
    "    \"\"\"\n",
    "    \n",
    "    try:\n",
    "        response = client.images.generate(\n",
    "            model=\"dall-e-3\",\n",
    "            prompt=prompt,\n",
    "            size=\"1024x1024\",\n",
    "            response_format=\"b64_json\"\n",
    "        )\n",
    "        image_base64 = response.data[0].b64_json\n",
    "        image_data = base64.b64decode(image_base64)\n",
    "        image = Image.open(BytesIO(image_data))\n",
    "        image.save(f\"{destination}.png\")\n",
    "        \n",
    "    except openai.OpenAIError as e:\n",
    "        print(e.http_status)\n",
    "        print(e.error)"
   ]
  }
 ],
 "metadata": {
  "kernelspec": {
   "display_name": "Python 3 (ipykernel)",
   "language": "python",
   "name": "python3"
  },
  "language_info": {
   "codemirror_mode": {
    "name": "ipython",
    "version": 3
   },
   "file_extension": ".py",
   "mimetype": "text/x-python",
   "name": "python",
   "nbconvert_exporter": "python",
   "pygments_lexer": "ipython3",
   "version": "3.12.8"
  }
 },
 "nbformat": 4,
 "nbformat_minor": 5
}

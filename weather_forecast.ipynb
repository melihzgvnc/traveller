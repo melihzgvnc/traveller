{
 "cells": [
  {
   "cell_type": "code",
   "execution_count": 21,
   "id": "b0918570-71fa-4456-beb0-60976c3a197b",
   "metadata": {},
   "outputs": [],
   "source": [
    "from pyowm.owm import OWM\n",
    "from pyowm.utils import timestamps\n",
    "from dotenv import load_dotenv\n",
    "import os\n",
    "import datetime"
   ]
  },
  {
   "cell_type": "code",
   "execution_count": 36,
   "id": "900e0a17-db7f-4acd-8f1c-e3710eeee942",
   "metadata": {},
   "outputs": [],
   "source": [
    "load_dotenv()\n",
    "os.environ[\"OPENWEATHER_API_KEY\"] = os.getenv(\"OPENWEATHER_API_KEY\")\n",
    "\n",
    "owm = OWM(os.environ[\"OPENWEATHER_API_KEY\"])"
   ]
  },
  {
   "cell_type": "code",
   "execution_count": 46,
   "id": "ec95edbc-67f0-4968-9cf3-5017a01c5f29",
   "metadata": {
    "scrolled": true
   },
   "outputs": [
    {
     "data": {
      "text/plain": [
       "<pyowm.weatherapi25.forecaster.Forecaster>"
      ]
     },
     "execution_count": 46,
     "metadata": {},
     "output_type": "execute_result"
    }
   ],
   "source": [
    "mgr = owm.weather_manager()\n",
    "\n",
    "mgr.forecast_at_place('Berlin,DE', '3h')"
   ]
  },
  {
   "cell_type": "code",
   "execution_count": 8,
   "id": "cfa95cd4-ba14-4a0e-88dd-455bab1d5419",
   "metadata": {},
   "outputs": [
    {
     "data": {
      "text/plain": [
       "datetime.datetime(2025, 2, 25, 0, 0)"
      ]
     },
     "execution_count": 8,
     "metadata": {},
     "output_type": "execute_result"
    }
   ],
   "source": [
    "datetime.datetime(2025, 2, 25)"
   ]
  },
  {
   "cell_type": "code",
   "execution_count": null,
   "id": "06d58428-b550-4a4a-9e2f-1b32dd218245",
   "metadata": {},
   "outputs": [],
   "source": []
  },
  {
   "cell_type": "code",
   "execution_count": null,
   "id": "ace810d1-2b2e-433f-ac78-f6ba9919f8e1",
   "metadata": {},
   "outputs": [],
   "source": []
  },
  {
   "cell_type": "code",
   "execution_count": null,
   "id": "9c08de9a-a727-4f42-9f58-8c6325cf3e53",
   "metadata": {},
   "outputs": [],
   "source": []
  },
  {
   "cell_type": "code",
   "execution_count": null,
   "id": "a569414d-5d24-49a9-88b7-45ff578408cb",
   "metadata": {},
   "outputs": [],
   "source": []
  }
 ],
 "metadata": {
  "kernelspec": {
   "display_name": "Python 3 (ipykernel)",
   "language": "python",
   "name": "python3"
  },
  "language_info": {
   "codemirror_mode": {
    "name": "ipython",
    "version": 3
   },
   "file_extension": ".py",
   "mimetype": "text/x-python",
   "name": "python",
   "nbconvert_exporter": "python",
   "pygments_lexer": "ipython3",
   "version": "3.12.8"
  }
 },
 "nbformat": 4,
 "nbformat_minor": 5
}

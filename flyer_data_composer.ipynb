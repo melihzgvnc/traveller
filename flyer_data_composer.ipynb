{
 "cells": [
  {
   "cell_type": "code",
   "execution_count": null,
   "id": "53762e64-1621-4d21-ba67-1326450539ee",
   "metadata": {},
   "outputs": [],
   "source": [
    "import json\n",
    "\n",
    "def json_composer(\n",
    "    destination: str = Field(\n",
    "        ..., description = \"The city of destination\"\n",
    "    ), \n",
    "    temperature: float = Field(\n",
    "        ..., description = \"The average temperature during a given time period\"\n",
    "    ), \n",
    "    attractions: list = Field(\n",
    "        ..., description = \"The list of popular attractions in the city\"\n",
    "    )\n",
    "):\n",
    "    data = {\n",
    "        \"destination\": destination,\n",
    "        \"temperature\": temperature,\n",
    "        \"attractions\": attractions\n",
    "    }\n",
    "\n",
    "    with open(\"data.json\", \"w\") as f:\n",
    "        json.dump(data, f)"
   ]
  }
 ],
 "metadata": {
  "kernelspec": {
   "display_name": "Python 3 (ipykernel)",
   "language": "python",
   "name": "python3"
  },
  "language_info": {
   "codemirror_mode": {
    "name": "ipython",
    "version": 3
   },
   "file_extension": ".py",
   "mimetype": "text/x-python",
   "name": "python",
   "nbconvert_exporter": "python",
   "pygments_lexer": "ipython3",
   "version": "3.12.8"
  }
 },
 "nbformat": 4,
 "nbformat_minor": 5
}
